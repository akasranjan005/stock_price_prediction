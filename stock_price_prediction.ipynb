{
 "cells": [
  {
   "cell_type": "code",
   "execution_count": 1,
   "metadata": {},
   "outputs": [],
   "source": [
    "import quandl\n",
    "import pandas as pd\n",
    "import numpy as np\n",
    "import warnings\n",
    "warnings.filterwarnings('ignore')"
   ]
  },
  {
   "cell_type": "code",
   "execution_count": 2,
   "metadata": {},
   "outputs": [],
   "source": [
    "mydata=quandl.get(\"NSE/PFC\")#,start_date=\"2005-12-01\",end_date=\"2005-12-05\")#toDo:NSE/SBIN"
   ]
  },
  {
   "cell_type": "code",
   "execution_count": 3,
   "metadata": {},
   "outputs": [
    {
     "name": "stdout",
     "output_type": "stream",
     "text": [
      "2692\n"
     ]
    },
    {
     "data": {
      "text/html": [
       "<div>\n",
       "<style scoped>\n",
       "    .dataframe tbody tr th:only-of-type {\n",
       "        vertical-align: middle;\n",
       "    }\n",
       "\n",
       "    .dataframe tbody tr th {\n",
       "        vertical-align: top;\n",
       "    }\n",
       "\n",
       "    .dataframe thead th {\n",
       "        text-align: right;\n",
       "    }\n",
       "</style>\n",
       "<table border=\"1\" class=\"dataframe\">\n",
       "  <thead>\n",
       "    <tr style=\"text-align: right;\">\n",
       "      <th></th>\n",
       "      <th>Open</th>\n",
       "      <th>High</th>\n",
       "      <th>Low</th>\n",
       "      <th>Last</th>\n",
       "      <th>Close</th>\n",
       "      <th>Total Trade Quantity</th>\n",
       "      <th>Turnover (Lacs)</th>\n",
       "    </tr>\n",
       "    <tr>\n",
       "      <th>Date</th>\n",
       "      <th></th>\n",
       "      <th></th>\n",
       "      <th></th>\n",
       "      <th></th>\n",
       "      <th></th>\n",
       "      <th></th>\n",
       "      <th></th>\n",
       "    </tr>\n",
       "  </thead>\n",
       "  <tbody>\n",
       "    <tr>\n",
       "      <th>2017-12-28</th>\n",
       "      <td>121.90</td>\n",
       "      <td>121.90</td>\n",
       "      <td>119.25</td>\n",
       "      <td>119.75</td>\n",
       "      <td>119.85</td>\n",
       "      <td>5958794.0</td>\n",
       "      <td>7171.80</td>\n",
       "    </tr>\n",
       "    <tr>\n",
       "      <th>2017-12-29</th>\n",
       "      <td>120.40</td>\n",
       "      <td>122.50</td>\n",
       "      <td>120.10</td>\n",
       "      <td>121.50</td>\n",
       "      <td>121.75</td>\n",
       "      <td>4736779.0</td>\n",
       "      <td>5762.32</td>\n",
       "    </tr>\n",
       "    <tr>\n",
       "      <th>2018-01-01</th>\n",
       "      <td>121.40</td>\n",
       "      <td>125.50</td>\n",
       "      <td>121.30</td>\n",
       "      <td>124.00</td>\n",
       "      <td>123.80</td>\n",
       "      <td>6640773.0</td>\n",
       "      <td>8232.74</td>\n",
       "    </tr>\n",
       "    <tr>\n",
       "      <th>2018-01-02</th>\n",
       "      <td>124.95</td>\n",
       "      <td>125.70</td>\n",
       "      <td>122.25</td>\n",
       "      <td>123.40</td>\n",
       "      <td>123.65</td>\n",
       "      <td>5576051.0</td>\n",
       "      <td>6916.36</td>\n",
       "    </tr>\n",
       "    <tr>\n",
       "      <th>2018-01-03</th>\n",
       "      <td>124.50</td>\n",
       "      <td>124.75</td>\n",
       "      <td>123.05</td>\n",
       "      <td>123.85</td>\n",
       "      <td>123.75</td>\n",
       "      <td>3126273.0</td>\n",
       "      <td>3872.41</td>\n",
       "    </tr>\n",
       "  </tbody>\n",
       "</table>\n",
       "</div>"
      ],
      "text/plain": [
       "              Open    High     Low    Last   Close  Total Trade Quantity  \\\n",
       "Date                                                                       \n",
       "2017-12-28  121.90  121.90  119.25  119.75  119.85             5958794.0   \n",
       "2017-12-29  120.40  122.50  120.10  121.50  121.75             4736779.0   \n",
       "2018-01-01  121.40  125.50  121.30  124.00  123.80             6640773.0   \n",
       "2018-01-02  124.95  125.70  122.25  123.40  123.65             5576051.0   \n",
       "2018-01-03  124.50  124.75  123.05  123.85  123.75             3126273.0   \n",
       "\n",
       "            Turnover (Lacs)  \n",
       "Date                         \n",
       "2017-12-28          7171.80  \n",
       "2017-12-29          5762.32  \n",
       "2018-01-01          8232.74  \n",
       "2018-01-02          6916.36  \n",
       "2018-01-03          3872.41  "
      ]
     },
     "execution_count": 3,
     "metadata": {},
     "output_type": "execute_result"
    }
   ],
   "source": [
    "print(len(mydata))\n",
    "mydata.tail()"
   ]
  },
  {
   "cell_type": "markdown",
   "metadata": {},
   "source": [
    "# Get Data from Quandl"
   ]
  },
  {
   "cell_type": "code",
   "execution_count": 4,
   "metadata": {},
   "outputs": [],
   "source": [
    "def get_data(symbol, start_date, end_date):\n",
    "    data=quandl.get(symbol, start_date = start_date, end_date = end_date)\n",
    "    return data"
   ]
  },
  {
   "cell_type": "markdown",
   "metadata": {},
   "source": [
    "# Feature Generation"
   ]
  },
  {
   "cell_type": "code",
   "execution_count": 5,
   "metadata": {},
   "outputs": [],
   "source": [
    "def generate_features(df):\n",
    "    \"\"\"\n",
    "    Input Dataframe Columns : Open, Close, High, Low, Volume, Adjusted Close\n",
    "    Output Dataframe Columns : Same columns as Input and new features\n",
    "    \"\"\"\n",
    "    df_new=pd.DataFrame()\n",
    "    df_new['open']=df['Open']\n",
    "    #print(df['Open'].head())\n",
    "    df_new['open_1']=df['Open'].shift(1)\n",
    "    \n",
    "    df_new['close_1']=df['Close'].shift(1)\n",
    "    #print(df['Close'].head())\n",
    "    df_new['high_1']=df['High'].shift(1)\n",
    "    df_new['low_1']=df['Low'].shift(1)\n",
    "    df_new['volume_1']=df['Total Trade Quantity'].shift(1)\n",
    "    \n",
    "    df_new['avg_price_5']=pd.rolling_mean(df['Close'],window=5).shift(1)\n",
    "    df_new['avg_price_30']=pd.rolling_mean(df['Close'],window=21).shift(1)\n",
    "    df_new['avg_price_365']=pd.rolling_mean(df['Close'],window=252).shift(1)\n",
    "    \n",
    "    df_new['ratio_avg_price_5_30']=df_new['avg_price_5']/df_new['avg_price_30']\n",
    "    df_new['ratio_avg_price_5_365']=df_new['avg_price_5']/df_new['avg_price_365']\n",
    "    df_new['ratio_avg_price_30_365']=df_new['avg_price_30']/df_new['avg_price_365']\n",
    "    \n",
    "    df_new['avg_volume_5']=pd.rolling_mean(df['Total Trade Quantity'],window=5).shift(1)\n",
    "    df_new['avg_volume_30']=pd.rolling_mean(df['Total Trade Quantity'],window=21).shift(1)\n",
    "    df_new['avg_volume_365']=pd.rolling_mean(df['Total Trade Quantity'],window=252).shift(1)\n",
    "    \n",
    "    df_new['ratio_avg_volume_5_30']=df_new['avg_volume_5']/df_new['avg_volume_30']\n",
    "    df_new['ratio_avg_volume_5_365']=df_new['avg_volume_5']/df_new['avg_volume_365']\n",
    "    df_new['ratio_avg_volume_30_365']=df_new['avg_volume_30']/df_new['avg_volume_365']\n",
    "    \n",
    "    df_new['std_price_5']=pd.rolling_std(df['Close'],window=5).shift(1)\n",
    "    df_new['std_price_30']=pd.rolling_std(df['Close'],window=21).shift(1)\n",
    "    df_new['std_price_365']=pd.rolling_std(df['Close'],window=252).shift(1)\n",
    "    \n",
    "    df_new['ratio_std_price_5_30']=df_new['std_price_5']/df_new['std_price_30']\n",
    "    df_new['ratio_std_price_5_365']=df_new['std_price_5']/df_new['std_price_365']\n",
    "    df_new['ratio_std_price_30_365']=df_new['std_price_30']/df_new['std_price_365']\n",
    "    \n",
    "    df_new['std_volume_5'] = pd.rolling_std(df['Total Trade Quantity'],window=5).shift(1)\n",
    "    df_new['std_volume_30'] = pd.rolling_std(df['Total Trade Quantity'],window=21).shift(1)\n",
    "    df_new['std_volume_365'] = pd.rolling_std(df['Total Trade Quantity'],window=252).shift(1)\n",
    "    \n",
    "    df_new['ratio_std_Volume_5_30'] = df_new['std_volume_5']/df_new['std_volume_30']\n",
    "    df_new['ratio_std_Volume_5_365'] = df_new['std_volume_5']/df_new['std_volume_365']\n",
    "    df_new['ratio_std_Volume_30_365'] = df_new['std_volume_30']/df_new['std_volume_365']\n",
    "    \n",
    "    df_new['return_1'] = ((df['Close']-df['Close'].shift(1))/df['Close'].shift(1)).shift(1)\n",
    "    df_new['return_5'] = ((df['Close']-df['Close'].shift(5))/df['Close'].shift(5)).shift(1)\n",
    "    df_new['return_30'] = ((df['Close']-df['Close'].shift(21))/df['Close'].shift(21)).shift(1)\n",
    "    df_new['return_365'] = ((df['Close']-df['Close'].shift(252))/df['Close'].shift(252)).shift(1)\n",
    "    \n",
    "    df_new['moving_avg_5'] = pd.rolling_mean(df_new['return_1'], window=5)\n",
    "    df_new['moving_avg_30'] = pd.rolling_mean(df_new['return_1'], window=21)\n",
    "    df_new['moving_avg_365'] = pd.rolling_mean(df_new['return_1'], window=252)\n",
    "    \n",
    "    df_new['close'] = df['Close']\n",
    "    df_new = df_new.dropna(axis=0)\n",
    "    \n",
    "    return df_new\n",
    "    \n",
    "    \n",
    "    "
   ]
  },
  {
   "cell_type": "code",
   "execution_count": 6,
   "metadata": {},
   "outputs": [],
   "source": [
    "result=generate_features(mydata)"
   ]
  },
  {
   "cell_type": "code",
   "execution_count": 7,
   "metadata": {},
   "outputs": [
    {
     "data": {
      "text/html": [
       "<div>\n",
       "<style scoped>\n",
       "    .dataframe tbody tr th:only-of-type {\n",
       "        vertical-align: middle;\n",
       "    }\n",
       "\n",
       "    .dataframe tbody tr th {\n",
       "        vertical-align: top;\n",
       "    }\n",
       "\n",
       "    .dataframe thead th {\n",
       "        text-align: right;\n",
       "    }\n",
       "</style>\n",
       "<table border=\"1\" class=\"dataframe\">\n",
       "  <thead>\n",
       "    <tr style=\"text-align: right;\">\n",
       "      <th></th>\n",
       "      <th>open</th>\n",
       "      <th>open_1</th>\n",
       "      <th>close_1</th>\n",
       "      <th>high_1</th>\n",
       "      <th>low_1</th>\n",
       "      <th>volume_1</th>\n",
       "      <th>avg_price_5</th>\n",
       "      <th>avg_price_30</th>\n",
       "      <th>avg_price_365</th>\n",
       "      <th>ratio_avg_price_5_30</th>\n",
       "      <th>...</th>\n",
       "      <th>ratio_std_Volume_5_365</th>\n",
       "      <th>ratio_std_Volume_30_365</th>\n",
       "      <th>return_1</th>\n",
       "      <th>return_5</th>\n",
       "      <th>return_30</th>\n",
       "      <th>return_365</th>\n",
       "      <th>moving_avg_5</th>\n",
       "      <th>moving_avg_30</th>\n",
       "      <th>moving_avg_365</th>\n",
       "      <th>close</th>\n",
       "    </tr>\n",
       "    <tr>\n",
       "      <th>Date</th>\n",
       "      <th></th>\n",
       "      <th></th>\n",
       "      <th></th>\n",
       "      <th></th>\n",
       "      <th></th>\n",
       "      <th></th>\n",
       "      <th></th>\n",
       "      <th></th>\n",
       "      <th></th>\n",
       "      <th></th>\n",
       "      <th></th>\n",
       "      <th></th>\n",
       "      <th></th>\n",
       "      <th></th>\n",
       "      <th></th>\n",
       "      <th></th>\n",
       "      <th></th>\n",
       "      <th></th>\n",
       "      <th></th>\n",
       "      <th></th>\n",
       "      <th></th>\n",
       "    </tr>\n",
       "  </thead>\n",
       "  <tbody>\n",
       "    <tr>\n",
       "      <th>2008-02-25</th>\n",
       "      <td>188.00</td>\n",
       "      <td>191.5</td>\n",
       "      <td>185.00</td>\n",
       "      <td>193.00</td>\n",
       "      <td>184.20</td>\n",
       "      <td>721729.0</td>\n",
       "      <td>190.62</td>\n",
       "      <td>186.216667</td>\n",
       "      <td>183.499802</td>\n",
       "      <td>1.023646</td>\n",
       "      <td>...</td>\n",
       "      <td>0.317346</td>\n",
       "      <td>0.270635</td>\n",
       "      <td>-0.041451</td>\n",
       "      <td>0.003254</td>\n",
       "      <td>-0.001350</td>\n",
       "      <td>0.656964</td>\n",
       "      <td>0.000972</td>\n",
       "      <td>0.001491</td>\n",
       "      <td>0.002744</td>\n",
       "      <td>191.35</td>\n",
       "    </tr>\n",
       "    <tr>\n",
       "      <th>2008-02-26</th>\n",
       "      <td>192.50</td>\n",
       "      <td>188.0</td>\n",
       "      <td>191.35</td>\n",
       "      <td>192.00</td>\n",
       "      <td>182.05</td>\n",
       "      <td>459217.0</td>\n",
       "      <td>191.32</td>\n",
       "      <td>186.078571</td>\n",
       "      <td>183.801587</td>\n",
       "      <td>1.028168</td>\n",
       "      <td>...</td>\n",
       "      <td>0.379356</td>\n",
       "      <td>0.306315</td>\n",
       "      <td>0.034324</td>\n",
       "      <td>0.018632</td>\n",
       "      <td>-0.014929</td>\n",
       "      <td>0.659584</td>\n",
       "      <td>0.004095</td>\n",
       "      <td>0.000812</td>\n",
       "      <td>0.002750</td>\n",
       "      <td>190.95</td>\n",
       "    </tr>\n",
       "    <tr>\n",
       "      <th>2008-02-27</th>\n",
       "      <td>193.50</td>\n",
       "      <td>192.5</td>\n",
       "      <td>190.95</td>\n",
       "      <td>194.00</td>\n",
       "      <td>188.00</td>\n",
       "      <td>422143.0</td>\n",
       "      <td>190.69</td>\n",
       "      <td>185.880952</td>\n",
       "      <td>184.093452</td>\n",
       "      <td>1.025872</td>\n",
       "      <td>...</td>\n",
       "      <td>0.149538</td>\n",
       "      <td>0.335509</td>\n",
       "      <td>-0.002090</td>\n",
       "      <td>-0.016229</td>\n",
       "      <td>-0.021271</td>\n",
       "      <td>0.626491</td>\n",
       "      <td>-0.002978</td>\n",
       "      <td>0.000504</td>\n",
       "      <td>0.002670</td>\n",
       "      <td>191.30</td>\n",
       "    </tr>\n",
       "    <tr>\n",
       "      <th>2008-02-28</th>\n",
       "      <td>191.00</td>\n",
       "      <td>193.5</td>\n",
       "      <td>191.30</td>\n",
       "      <td>197.75</td>\n",
       "      <td>187.60</td>\n",
       "      <td>829135.0</td>\n",
       "      <td>190.32</td>\n",
       "      <td>185.604762</td>\n",
       "      <td>184.411905</td>\n",
       "      <td>1.025405</td>\n",
       "      <td>...</td>\n",
       "      <td>0.112792</td>\n",
       "      <td>0.345099</td>\n",
       "      <td>0.001833</td>\n",
       "      <td>-0.009578</td>\n",
       "      <td>-0.029427</td>\n",
       "      <td>0.722647</td>\n",
       "      <td>-0.001632</td>\n",
       "      <td>0.000104</td>\n",
       "      <td>0.002892</td>\n",
       "      <td>180.75</td>\n",
       "    </tr>\n",
       "    <tr>\n",
       "      <th>2008-02-29</th>\n",
       "      <td>180.75</td>\n",
       "      <td>191.0</td>\n",
       "      <td>180.75</td>\n",
       "      <td>192.00</td>\n",
       "      <td>176.75</td>\n",
       "      <td>2720964.0</td>\n",
       "      <td>187.87</td>\n",
       "      <td>184.892857</td>\n",
       "      <td>184.690476</td>\n",
       "      <td>1.016102</td>\n",
       "      <td>...</td>\n",
       "      <td>0.437778</td>\n",
       "      <td>0.366976</td>\n",
       "      <td>-0.055149</td>\n",
       "      <td>-0.063472</td>\n",
       "      <td>-0.076392</td>\n",
       "      <td>0.635007</td>\n",
       "      <td>-0.012507</td>\n",
       "      <td>-0.002184</td>\n",
       "      <td>0.002691</td>\n",
       "      <td>187.45</td>\n",
       "    </tr>\n",
       "  </tbody>\n",
       "</table>\n",
       "<p>5 rows × 38 columns</p>\n",
       "</div>"
      ],
      "text/plain": [
       "              open  open_1  close_1  high_1   low_1   volume_1  avg_price_5  \\\n",
       "Date                                                                          \n",
       "2008-02-25  188.00   191.5   185.00  193.00  184.20   721729.0       190.62   \n",
       "2008-02-26  192.50   188.0   191.35  192.00  182.05   459217.0       191.32   \n",
       "2008-02-27  193.50   192.5   190.95  194.00  188.00   422143.0       190.69   \n",
       "2008-02-28  191.00   193.5   191.30  197.75  187.60   829135.0       190.32   \n",
       "2008-02-29  180.75   191.0   180.75  192.00  176.75  2720964.0       187.87   \n",
       "\n",
       "            avg_price_30  avg_price_365  ratio_avg_price_5_30   ...    \\\n",
       "Date                                                            ...     \n",
       "2008-02-25    186.216667     183.499802              1.023646   ...     \n",
       "2008-02-26    186.078571     183.801587              1.028168   ...     \n",
       "2008-02-27    185.880952     184.093452              1.025872   ...     \n",
       "2008-02-28    185.604762     184.411905              1.025405   ...     \n",
       "2008-02-29    184.892857     184.690476              1.016102   ...     \n",
       "\n",
       "            ratio_std_Volume_5_365  ratio_std_Volume_30_365  return_1  \\\n",
       "Date                                                                    \n",
       "2008-02-25                0.317346                 0.270635 -0.041451   \n",
       "2008-02-26                0.379356                 0.306315  0.034324   \n",
       "2008-02-27                0.149538                 0.335509 -0.002090   \n",
       "2008-02-28                0.112792                 0.345099  0.001833   \n",
       "2008-02-29                0.437778                 0.366976 -0.055149   \n",
       "\n",
       "            return_5  return_30  return_365  moving_avg_5  moving_avg_30  \\\n",
       "Date                                                                       \n",
       "2008-02-25  0.003254  -0.001350    0.656964      0.000972       0.001491   \n",
       "2008-02-26  0.018632  -0.014929    0.659584      0.004095       0.000812   \n",
       "2008-02-27 -0.016229  -0.021271    0.626491     -0.002978       0.000504   \n",
       "2008-02-28 -0.009578  -0.029427    0.722647     -0.001632       0.000104   \n",
       "2008-02-29 -0.063472  -0.076392    0.635007     -0.012507      -0.002184   \n",
       "\n",
       "            moving_avg_365   close  \n",
       "Date                                \n",
       "2008-02-25        0.002744  191.35  \n",
       "2008-02-26        0.002750  190.95  \n",
       "2008-02-27        0.002670  191.30  \n",
       "2008-02-28        0.002892  180.75  \n",
       "2008-02-29        0.002691  187.45  \n",
       "\n",
       "[5 rows x 38 columns]"
      ]
     },
     "execution_count": 7,
     "metadata": {},
     "output_type": "execute_result"
    }
   ],
   "source": [
    "result.head()"
   ]
  },
  {
   "cell_type": "code",
   "execution_count": 8,
   "metadata": {},
   "outputs": [],
   "source": [
    "def compute_prediction(X, weights):\n",
    "    \"\"\"\n",
    "    calculate y_hat\n",
    "    \"\"\"\n",
    "    predictions = np.dot(X, weights)\n",
    "    return predictions"
   ]
  },
  {
   "cell_type": "code",
   "execution_count": 9,
   "metadata": {},
   "outputs": [],
   "source": [
    "def update_weights(X_train, y_train, weights, learning_rate):\n",
    "    \"\"\"\n",
    "    Update weights\n",
    "    \"\"\"\n",
    "    predictions = compute_prediction(X_train, weights)\n",
    "    weights_delta = np.dot(X_train.T, y_train - predictions)\n",
    "    m = y_train.shape[0]\n",
    "    weights += learning_rate/float(m)*weights_delta\n",
    "    return weights"
   ]
  },
  {
   "cell_type": "code",
   "execution_count": 10,
   "metadata": {},
   "outputs": [],
   "source": [
    "def compute_cost(X, y, weights):\n",
    "    \"\"\"\n",
    "    COst\n",
    "    \"\"\"\n",
    "    predictions = compute_prediction(X, weights)\n",
    "    cost = np.mean((predictions-y)**2/2.0)\n",
    "    return cost"
   ]
  },
  {
   "cell_type": "code",
   "execution_count": 11,
   "metadata": {},
   "outputs": [],
   "source": [
    "def linear_regression(X_train, y_train, max_iter, learning_rate, fit_intercept=False):\n",
    "    \"\"\"\n",
    "    Training Linear Regression\n",
    "    \"\"\"\n",
    "    if fit_intercept:\n",
    "        intercept = np.ones((X_train.shape[0],1))\n",
    "        X_train = np.hstack((intercept, X_train))\n",
    "    weights = np.zeros(X_train.shape[1])\n",
    "    \n",
    "    for iteration in range(max_iter):\n",
    "        weights = update_weights(X_train, y_train, weights, learning_rate)\n",
    "        if iteration%100 == 0:\n",
    "            print(compute_cost(X_train, y_train, weights))\n",
    "    return weights\n",
    "    "
   ]
  },
  {
   "cell_type": "code",
   "execution_count": 12,
   "metadata": {},
   "outputs": [],
   "source": [
    "def predict(X, weights):\n",
    "    if X.shape[1] == weights.shape[0]-1:\n",
    "        intercept = np.ones((X.shape[0],1))\n",
    "        X = np.hstack((intercept,X))\n",
    "    return compute_prediction(X, weights)"
   ]
  },
  {
   "cell_type": "code",
   "execution_count": 13,
   "metadata": {},
   "outputs": [],
   "source": [
    "import datetime\n",
    "sd=datetime.datetime(2007, 2, 23, 0, 0)\n",
    "ed=datetime.datetime(2017, 11, 23, 0, 0)\n",
    "result_subset=result.ix[sd:ed]\n"
   ]
  },
  {
   "cell_type": "code",
   "execution_count": null,
   "metadata": {},
   "outputs": [],
   "source": []
  },
  {
   "cell_type": "code",
   "execution_count": 14,
   "metadata": {},
   "outputs": [],
   "source": [
    "X_col=result.drop(['close'],axis=1).columns\n",
    "y_col = 'close'\n",
    "X_train = result_subset[X_col]\n",
    "y_train = result_subset[y_col]"
   ]
  },
  {
   "cell_type": "code",
   "execution_count": 15,
   "metadata": {},
   "outputs": [
    {
     "data": {
      "text/plain": [
       "(2411, 37)"
      ]
     },
     "execution_count": 15,
     "metadata": {},
     "output_type": "execute_result"
    }
   ],
   "source": [
    "X_train.shape"
   ]
  },
  {
   "cell_type": "code",
   "execution_count": 16,
   "metadata": {},
   "outputs": [
    {
     "data": {
      "text/plain": [
       "(2411,)"
      ]
     },
     "execution_count": 16,
     "metadata": {},
     "output_type": "execute_result"
    }
   ],
   "source": [
    "y_train.shape"
   ]
  },
  {
   "cell_type": "code",
   "execution_count": 17,
   "metadata": {},
   "outputs": [],
   "source": [
    "sd1=datetime.datetime(2017, 11, 24, 0, 0)\n",
    "ed1=datetime.datetime(2018, 1, 3, 0, 0)\n",
    "result_subset1=result.ix[sd1:ed1]"
   ]
  },
  {
   "cell_type": "code",
   "execution_count": 18,
   "metadata": {},
   "outputs": [],
   "source": [
    "X_test=result_subset1[X_col]\n",
    "y_test=result_subset1[y_col]"
   ]
  },
  {
   "cell_type": "code",
   "execution_count": 19,
   "metadata": {},
   "outputs": [
    {
     "data": {
      "text/plain": [
       "(28, 37)"
      ]
     },
     "execution_count": 19,
     "metadata": {},
     "output_type": "execute_result"
    }
   ],
   "source": [
    "X_test.shape"
   ]
  },
  {
   "cell_type": "code",
   "execution_count": 20,
   "metadata": {},
   "outputs": [
    {
     "data": {
      "text/plain": [
       "(28,)"
      ]
     },
     "execution_count": 20,
     "metadata": {},
     "output_type": "execute_result"
    }
   ],
   "source": [
    "y_test.shape"
   ]
  },
  {
   "cell_type": "code",
   "execution_count": 21,
   "metadata": {},
   "outputs": [
    {
     "data": {
      "text/plain": [
       "(28,)"
      ]
     },
     "execution_count": 21,
     "metadata": {},
     "output_type": "execute_result"
    }
   ],
   "source": [
    "y_test.shape"
   ]
  },
  {
   "cell_type": "code",
   "execution_count": 22,
   "metadata": {},
   "outputs": [],
   "source": [
    "from sklearn.preprocessing import StandardScaler\n",
    "scaler=StandardScaler()"
   ]
  },
  {
   "cell_type": "code",
   "execution_count": 23,
   "metadata": {},
   "outputs": [
    {
     "data": {
      "text/plain": [
       "StandardScaler(copy=True, with_mean=True, with_std=True)"
      ]
     },
     "execution_count": 23,
     "metadata": {},
     "output_type": "execute_result"
    }
   ],
   "source": [
    "scaler.fit(X_train)"
   ]
  },
  {
   "cell_type": "code",
   "execution_count": 24,
   "metadata": {},
   "outputs": [],
   "source": [
    "X_scaled_train = scaler.transform(X_train)\n",
    "X_scaled_test = scaler.transform(X_test)"
   ]
  },
  {
   "cell_type": "code",
   "execution_count": 25,
   "metadata": {},
   "outputs": [],
   "source": [
    "param_grid = {\n",
    "    \"alpha\": [3e-06, 1e-5, 3e-5],\n",
    "    \"eta0\": [0.01, 0.03, 0.1],\n",
    "}"
   ]
  },
  {
   "cell_type": "code",
   "execution_count": 26,
   "metadata": {},
   "outputs": [],
   "source": [
    "from sklearn.model_selection import GridSearchCV\n",
    "from sklearn import linear_model\n",
    "lr=linear_model.SGDRegressor(penalty='l2', n_iter=1000)\n",
    "grid_search = GridSearchCV(lr, param_grid, cv=5, scoring='neg_mean_absolute_error')"
   ]
  },
  {
   "cell_type": "code",
   "execution_count": 27,
   "metadata": {},
   "outputs": [
    {
     "name": "stderr",
     "output_type": "stream",
     "text": [
      "/home/akash/Desktop/Projects/sppr/lib/python3.5/site-packages/sklearn/linear_model/stochastic_gradient.py:117: DeprecationWarning: n_iter parameter is deprecated in 0.19 and will be removed in 0.21. Use max_iter and tol instead.\n",
      "  DeprecationWarning)\n",
      "/home/akash/Desktop/Projects/sppr/lib/python3.5/site-packages/sklearn/linear_model/stochastic_gradient.py:117: DeprecationWarning: n_iter parameter is deprecated in 0.19 and will be removed in 0.21. Use max_iter and tol instead.\n",
      "  DeprecationWarning)\n",
      "/home/akash/Desktop/Projects/sppr/lib/python3.5/site-packages/sklearn/linear_model/stochastic_gradient.py:117: DeprecationWarning: n_iter parameter is deprecated in 0.19 and will be removed in 0.21. Use max_iter and tol instead.\n",
      "  DeprecationWarning)\n",
      "/home/akash/Desktop/Projects/sppr/lib/python3.5/site-packages/sklearn/linear_model/stochastic_gradient.py:117: DeprecationWarning: n_iter parameter is deprecated in 0.19 and will be removed in 0.21. Use max_iter and tol instead.\n",
      "  DeprecationWarning)\n",
      "/home/akash/Desktop/Projects/sppr/lib/python3.5/site-packages/sklearn/linear_model/stochastic_gradient.py:117: DeprecationWarning: n_iter parameter is deprecated in 0.19 and will be removed in 0.21. Use max_iter and tol instead.\n",
      "  DeprecationWarning)\n",
      "/home/akash/Desktop/Projects/sppr/lib/python3.5/site-packages/sklearn/linear_model/stochastic_gradient.py:117: DeprecationWarning: n_iter parameter is deprecated in 0.19 and will be removed in 0.21. Use max_iter and tol instead.\n",
      "  DeprecationWarning)\n",
      "/home/akash/Desktop/Projects/sppr/lib/python3.5/site-packages/sklearn/linear_model/stochastic_gradient.py:117: DeprecationWarning: n_iter parameter is deprecated in 0.19 and will be removed in 0.21. Use max_iter and tol instead.\n",
      "  DeprecationWarning)\n",
      "/home/akash/Desktop/Projects/sppr/lib/python3.5/site-packages/sklearn/linear_model/stochastic_gradient.py:117: DeprecationWarning: n_iter parameter is deprecated in 0.19 and will be removed in 0.21. Use max_iter and tol instead.\n",
      "  DeprecationWarning)\n",
      "/home/akash/Desktop/Projects/sppr/lib/python3.5/site-packages/sklearn/linear_model/stochastic_gradient.py:117: DeprecationWarning: n_iter parameter is deprecated in 0.19 and will be removed in 0.21. Use max_iter and tol instead.\n",
      "  DeprecationWarning)\n",
      "/home/akash/Desktop/Projects/sppr/lib/python3.5/site-packages/sklearn/linear_model/stochastic_gradient.py:117: DeprecationWarning: n_iter parameter is deprecated in 0.19 and will be removed in 0.21. Use max_iter and tol instead.\n",
      "  DeprecationWarning)\n",
      "/home/akash/Desktop/Projects/sppr/lib/python3.5/site-packages/sklearn/linear_model/stochastic_gradient.py:117: DeprecationWarning: n_iter parameter is deprecated in 0.19 and will be removed in 0.21. Use max_iter and tol instead.\n",
      "  DeprecationWarning)\n",
      "/home/akash/Desktop/Projects/sppr/lib/python3.5/site-packages/sklearn/linear_model/stochastic_gradient.py:117: DeprecationWarning: n_iter parameter is deprecated in 0.19 and will be removed in 0.21. Use max_iter and tol instead.\n",
      "  DeprecationWarning)\n",
      "/home/akash/Desktop/Projects/sppr/lib/python3.5/site-packages/sklearn/linear_model/stochastic_gradient.py:117: DeprecationWarning: n_iter parameter is deprecated in 0.19 and will be removed in 0.21. Use max_iter and tol instead.\n",
      "  DeprecationWarning)\n",
      "/home/akash/Desktop/Projects/sppr/lib/python3.5/site-packages/sklearn/linear_model/stochastic_gradient.py:117: DeprecationWarning: n_iter parameter is deprecated in 0.19 and will be removed in 0.21. Use max_iter and tol instead.\n",
      "  DeprecationWarning)\n",
      "/home/akash/Desktop/Projects/sppr/lib/python3.5/site-packages/sklearn/linear_model/stochastic_gradient.py:117: DeprecationWarning: n_iter parameter is deprecated in 0.19 and will be removed in 0.21. Use max_iter and tol instead.\n",
      "  DeprecationWarning)\n",
      "/home/akash/Desktop/Projects/sppr/lib/python3.5/site-packages/sklearn/linear_model/stochastic_gradient.py:117: DeprecationWarning: n_iter parameter is deprecated in 0.19 and will be removed in 0.21. Use max_iter and tol instead.\n",
      "  DeprecationWarning)\n",
      "/home/akash/Desktop/Projects/sppr/lib/python3.5/site-packages/sklearn/linear_model/stochastic_gradient.py:117: DeprecationWarning: n_iter parameter is deprecated in 0.19 and will be removed in 0.21. Use max_iter and tol instead.\n",
      "  DeprecationWarning)\n",
      "/home/akash/Desktop/Projects/sppr/lib/python3.5/site-packages/sklearn/linear_model/stochastic_gradient.py:117: DeprecationWarning: n_iter parameter is deprecated in 0.19 and will be removed in 0.21. Use max_iter and tol instead.\n",
      "  DeprecationWarning)\n",
      "/home/akash/Desktop/Projects/sppr/lib/python3.5/site-packages/sklearn/linear_model/stochastic_gradient.py:117: DeprecationWarning: n_iter parameter is deprecated in 0.19 and will be removed in 0.21. Use max_iter and tol instead.\n",
      "  DeprecationWarning)\n",
      "/home/akash/Desktop/Projects/sppr/lib/python3.5/site-packages/sklearn/linear_model/stochastic_gradient.py:117: DeprecationWarning: n_iter parameter is deprecated in 0.19 and will be removed in 0.21. Use max_iter and tol instead.\n",
      "  DeprecationWarning)\n",
      "/home/akash/Desktop/Projects/sppr/lib/python3.5/site-packages/sklearn/linear_model/stochastic_gradient.py:117: DeprecationWarning: n_iter parameter is deprecated in 0.19 and will be removed in 0.21. Use max_iter and tol instead.\n",
      "  DeprecationWarning)\n",
      "/home/akash/Desktop/Projects/sppr/lib/python3.5/site-packages/sklearn/linear_model/stochastic_gradient.py:117: DeprecationWarning: n_iter parameter is deprecated in 0.19 and will be removed in 0.21. Use max_iter and tol instead.\n",
      "  DeprecationWarning)\n",
      "/home/akash/Desktop/Projects/sppr/lib/python3.5/site-packages/sklearn/linear_model/stochastic_gradient.py:117: DeprecationWarning: n_iter parameter is deprecated in 0.19 and will be removed in 0.21. Use max_iter and tol instead.\n",
      "  DeprecationWarning)\n",
      "/home/akash/Desktop/Projects/sppr/lib/python3.5/site-packages/sklearn/linear_model/stochastic_gradient.py:117: DeprecationWarning: n_iter parameter is deprecated in 0.19 and will be removed in 0.21. Use max_iter and tol instead.\n",
      "  DeprecationWarning)\n",
      "/home/akash/Desktop/Projects/sppr/lib/python3.5/site-packages/sklearn/linear_model/stochastic_gradient.py:117: DeprecationWarning: n_iter parameter is deprecated in 0.19 and will be removed in 0.21. Use max_iter and tol instead.\n",
      "  DeprecationWarning)\n",
      "/home/akash/Desktop/Projects/sppr/lib/python3.5/site-packages/sklearn/linear_model/stochastic_gradient.py:117: DeprecationWarning: n_iter parameter is deprecated in 0.19 and will be removed in 0.21. Use max_iter and tol instead.\n",
      "  DeprecationWarning)\n",
      "/home/akash/Desktop/Projects/sppr/lib/python3.5/site-packages/sklearn/linear_model/stochastic_gradient.py:117: DeprecationWarning: n_iter parameter is deprecated in 0.19 and will be removed in 0.21. Use max_iter and tol instead.\n",
      "  DeprecationWarning)\n",
      "/home/akash/Desktop/Projects/sppr/lib/python3.5/site-packages/sklearn/linear_model/stochastic_gradient.py:117: DeprecationWarning: n_iter parameter is deprecated in 0.19 and will be removed in 0.21. Use max_iter and tol instead.\n",
      "  DeprecationWarning)\n",
      "/home/akash/Desktop/Projects/sppr/lib/python3.5/site-packages/sklearn/linear_model/stochastic_gradient.py:117: DeprecationWarning: n_iter parameter is deprecated in 0.19 and will be removed in 0.21. Use max_iter and tol instead.\n",
      "  DeprecationWarning)\n",
      "/home/akash/Desktop/Projects/sppr/lib/python3.5/site-packages/sklearn/linear_model/stochastic_gradient.py:117: DeprecationWarning: n_iter parameter is deprecated in 0.19 and will be removed in 0.21. Use max_iter and tol instead.\n",
      "  DeprecationWarning)\n",
      "/home/akash/Desktop/Projects/sppr/lib/python3.5/site-packages/sklearn/linear_model/stochastic_gradient.py:117: DeprecationWarning: n_iter parameter is deprecated in 0.19 and will be removed in 0.21. Use max_iter and tol instead.\n",
      "  DeprecationWarning)\n",
      "/home/akash/Desktop/Projects/sppr/lib/python3.5/site-packages/sklearn/linear_model/stochastic_gradient.py:117: DeprecationWarning: n_iter parameter is deprecated in 0.19 and will be removed in 0.21. Use max_iter and tol instead.\n",
      "  DeprecationWarning)\n",
      "/home/akash/Desktop/Projects/sppr/lib/python3.5/site-packages/sklearn/linear_model/stochastic_gradient.py:117: DeprecationWarning: n_iter parameter is deprecated in 0.19 and will be removed in 0.21. Use max_iter and tol instead.\n",
      "  DeprecationWarning)\n"
     ]
    },
    {
     "name": "stderr",
     "output_type": "stream",
     "text": [
      "/home/akash/Desktop/Projects/sppr/lib/python3.5/site-packages/sklearn/linear_model/stochastic_gradient.py:117: DeprecationWarning: n_iter parameter is deprecated in 0.19 and will be removed in 0.21. Use max_iter and tol instead.\n",
      "  DeprecationWarning)\n",
      "/home/akash/Desktop/Projects/sppr/lib/python3.5/site-packages/sklearn/linear_model/stochastic_gradient.py:117: DeprecationWarning: n_iter parameter is deprecated in 0.19 and will be removed in 0.21. Use max_iter and tol instead.\n",
      "  DeprecationWarning)\n",
      "/home/akash/Desktop/Projects/sppr/lib/python3.5/site-packages/sklearn/linear_model/stochastic_gradient.py:117: DeprecationWarning: n_iter parameter is deprecated in 0.19 and will be removed in 0.21. Use max_iter and tol instead.\n",
      "  DeprecationWarning)\n",
      "/home/akash/Desktop/Projects/sppr/lib/python3.5/site-packages/sklearn/linear_model/stochastic_gradient.py:117: DeprecationWarning: n_iter parameter is deprecated in 0.19 and will be removed in 0.21. Use max_iter and tol instead.\n",
      "  DeprecationWarning)\n",
      "/home/akash/Desktop/Projects/sppr/lib/python3.5/site-packages/sklearn/linear_model/stochastic_gradient.py:117: DeprecationWarning: n_iter parameter is deprecated in 0.19 and will be removed in 0.21. Use max_iter and tol instead.\n",
      "  DeprecationWarning)\n",
      "/home/akash/Desktop/Projects/sppr/lib/python3.5/site-packages/sklearn/linear_model/stochastic_gradient.py:117: DeprecationWarning: n_iter parameter is deprecated in 0.19 and will be removed in 0.21. Use max_iter and tol instead.\n",
      "  DeprecationWarning)\n",
      "/home/akash/Desktop/Projects/sppr/lib/python3.5/site-packages/sklearn/linear_model/stochastic_gradient.py:117: DeprecationWarning: n_iter parameter is deprecated in 0.19 and will be removed in 0.21. Use max_iter and tol instead.\n",
      "  DeprecationWarning)\n",
      "/home/akash/Desktop/Projects/sppr/lib/python3.5/site-packages/sklearn/linear_model/stochastic_gradient.py:117: DeprecationWarning: n_iter parameter is deprecated in 0.19 and will be removed in 0.21. Use max_iter and tol instead.\n",
      "  DeprecationWarning)\n",
      "/home/akash/Desktop/Projects/sppr/lib/python3.5/site-packages/sklearn/linear_model/stochastic_gradient.py:117: DeprecationWarning: n_iter parameter is deprecated in 0.19 and will be removed in 0.21. Use max_iter and tol instead.\n",
      "  DeprecationWarning)\n",
      "/home/akash/Desktop/Projects/sppr/lib/python3.5/site-packages/sklearn/linear_model/stochastic_gradient.py:117: DeprecationWarning: n_iter parameter is deprecated in 0.19 and will be removed in 0.21. Use max_iter and tol instead.\n",
      "  DeprecationWarning)\n",
      "/home/akash/Desktop/Projects/sppr/lib/python3.5/site-packages/sklearn/linear_model/stochastic_gradient.py:117: DeprecationWarning: n_iter parameter is deprecated in 0.19 and will be removed in 0.21. Use max_iter and tol instead.\n",
      "  DeprecationWarning)\n",
      "/home/akash/Desktop/Projects/sppr/lib/python3.5/site-packages/sklearn/linear_model/stochastic_gradient.py:117: DeprecationWarning: n_iter parameter is deprecated in 0.19 and will be removed in 0.21. Use max_iter and tol instead.\n",
      "  DeprecationWarning)\n",
      "/home/akash/Desktop/Projects/sppr/lib/python3.5/site-packages/sklearn/linear_model/stochastic_gradient.py:117: DeprecationWarning: n_iter parameter is deprecated in 0.19 and will be removed in 0.21. Use max_iter and tol instead.\n",
      "  DeprecationWarning)\n"
     ]
    },
    {
     "data": {
      "text/plain": [
       "GridSearchCV(cv=5, error_score='raise',\n",
       "       estimator=SGDRegressor(alpha=0.0001, average=False, epsilon=0.1, eta0=0.01,\n",
       "       fit_intercept=True, l1_ratio=0.15, learning_rate='invscaling',\n",
       "       loss='squared_loss', max_iter=None, n_iter=1000, penalty='l2',\n",
       "       power_t=0.25, random_state=None, shuffle=True, tol=None, verbose=0,\n",
       "       warm_start=False),\n",
       "       fit_params=None, iid=True, n_jobs=1,\n",
       "       param_grid={'eta0': [0.01, 0.03, 0.1], 'alpha': [3e-06, 1e-05, 3e-05]},\n",
       "       pre_dispatch='2*n_jobs', refit=True, return_train_score='warn',\n",
       "       scoring='neg_mean_absolute_error', verbose=0)"
      ]
     },
     "execution_count": 27,
     "metadata": {},
     "output_type": "execute_result"
    }
   ],
   "source": [
    "grid_search.fit(X_scaled_train, y_train)"
   ]
  },
  {
   "cell_type": "code",
   "execution_count": 28,
   "metadata": {},
   "outputs": [
    {
     "name": "stdout",
     "output_type": "stream",
     "text": [
      "{'eta0': 0.01, 'alpha': 3e-05}\n"
     ]
    }
   ],
   "source": [
    "print(grid_search.best_params_)"
   ]
  },
  {
   "cell_type": "code",
   "execution_count": 29,
   "metadata": {},
   "outputs": [],
   "source": [
    "lr_best=grid_search.best_estimator_"
   ]
  },
  {
   "cell_type": "code",
   "execution_count": 30,
   "metadata": {},
   "outputs": [],
   "source": [
    "predictions=lr_best.predict(X_scaled_test)"
   ]
  },
  {
   "cell_type": "code",
   "execution_count": 31,
   "metadata": {},
   "outputs": [
    {
     "name": "stdout",
     "output_type": "stream",
     "text": [
      "MSE: 2.248\n",
      "MSE: 1.188\n",
      "MSE: 0.737\n"
     ]
    }
   ],
   "source": [
    "from sklearn.metrics import mean_squared_error, mean_absolute_error, r2_score\n",
    "print('MSE: {0:.3f}'.format(mean_squared_error(y_test, predictions)))\n",
    "print('MSE: {0:.3f}'.format(mean_absolute_error(y_test, predictions)))\n",
    "print('MSE: {0:.3f}'.format(r2_score(y_test, predictions)))\n"
   ]
  },
  {
   "cell_type": "code",
   "execution_count": 32,
   "metadata": {},
   "outputs": [
    {
     "data": {
      "text/plain": [
       "28"
      ]
     },
     "execution_count": 32,
     "metadata": {},
     "output_type": "execute_result"
    }
   ],
   "source": [
    "len(predictions)\n",
    "len(y_test)"
   ]
  },
  {
   "cell_type": "code",
   "execution_count": 57,
   "metadata": {},
   "outputs": [],
   "source": [
    "import matplotlib.pyplot as plt\n",
    "%matplotlib inline"
   ]
  },
  {
   "cell_type": "code",
   "execution_count": 58,
   "metadata": {},
   "outputs": [
    {
     "data": {
      "image/png": "[encoded data removed]",
      "text/plain": [
       "<matplotlib.figure.Figure at 0x7fa8a02f4cc0>"
      ]
     },
     "metadata": {},
     "output_type": "display_data"
    }
   ],
   "source": [
    "y_test.plot()\n",
    "output=y_test.copy(deep=True)"
   ]
  },
  {
   "cell_type": "code",
   "execution_count": 72,
   "metadata": {},
   "outputs": [],
   "source": [
    "output=output.to_frame()\n"
   ]
  },
  {
   "cell_type": "code",
   "execution_count": 73,
   "metadata": {},
   "outputs": [],
   "source": [
    "output['prediction']=predictions"
   ]
  },
  {
   "cell_type": "code",
   "execution_count": 76,
   "metadata": {},
   "outputs": [
    {
     "data": {
      "text/html": [
       "<div>\n",
       "<style scoped>\n",
       "    .dataframe tbody tr th:only-of-type {\n",
       "        vertical-align: middle;\n",
       "    }\n",
       "\n",
       "    .dataframe tbody tr th {\n",
       "        vertical-align: top;\n",
       "    }\n",
       "\n",
       "    .dataframe thead th {\n",
       "        text-align: right;\n",
       "    }\n",
       "</style>\n",
       "<table border=\"1\" class=\"dataframe\">\n",
       "  <thead>\n",
       "    <tr style=\"text-align: right;\">\n",
       "      <th></th>\n",
       "      <th>close</th>\n",
       "      <th>prediction</th>\n",
       "    </tr>\n",
       "    <tr>\n",
       "      <th>Date</th>\n",
       "      <th></th>\n",
       "      <th></th>\n",
       "    </tr>\n",
       "  </thead>\n",
       "  <tbody>\n",
       "    <tr>\n",
       "      <th>2017-12-28</th>\n",
       "      <td>119.85</td>\n",
       "      <td>122.097261</td>\n",
       "    </tr>\n",
       "    <tr>\n",
       "      <th>2017-12-29</th>\n",
       "      <td>121.75</td>\n",
       "      <td>120.636038</td>\n",
       "    </tr>\n",
       "    <tr>\n",
       "      <th>2018-01-01</th>\n",
       "      <td>123.80</td>\n",
       "      <td>122.065192</td>\n",
       "    </tr>\n",
       "    <tr>\n",
       "      <th>2018-01-02</th>\n",
       "      <td>123.65</td>\n",
       "      <td>125.150511</td>\n",
       "    </tr>\n",
       "    <tr>\n",
       "      <th>2018-01-03</th>\n",
       "      <td>123.75</td>\n",
       "      <td>124.766970</td>\n",
       "    </tr>\n",
       "  </tbody>\n",
       "</table>\n",
       "</div>"
      ],
      "text/plain": [
       "             close  prediction\n",
       "Date                          \n",
       "2017-12-28  119.85  122.097261\n",
       "2017-12-29  121.75  120.636038\n",
       "2018-01-01  123.80  122.065192\n",
       "2018-01-02  123.65  125.150511\n",
       "2018-01-03  123.75  124.766970"
      ]
     },
     "execution_count": 76,
     "metadata": {},
     "output_type": "execute_result"
    }
   ],
   "source": [
    "output.tail()"
   ]
  },
  {
   "cell_type": "code",
   "execution_count": null,
   "metadata": {},
   "outputs": [],
   "source": []
  }
 ],
 "metadata": {
  "kernelspec": {
   "display_name": "sppr",
   "language": "python",
   "name": "sppr"
  },
  "language_info": {
   "codemirror_mode": {
    "name": "ipython",
    "version": 3
   },
   "file_extension": ".py",
   "mimetype": "text/x-python",
   "name": "python",
   "nbconvert_exporter": "python",
   "pygments_lexer": "ipython3",
   "version": "3.5.2"
  }
 },
 "nbformat": 4,
 "nbformat_minor": 2
}
