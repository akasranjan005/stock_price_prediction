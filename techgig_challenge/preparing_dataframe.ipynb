{
 "cells": [
  {
   "cell_type": "code",
   "execution_count": 109,
   "metadata": {},
   "outputs": [],
   "source": [
    "import numpy as np\n",
    "import pandas as pd\n",
    "import matplotlib.pyplot as plt\n",
    "%matplotlib inline"
   ]
  },
  {
   "cell_type": "code",
   "execution_count": 38,
   "metadata": {},
   "outputs": [],
   "source": [
    "BASE_DIR = !pwd\n",
    "BASE_DIR = BASE_DIR[0]+'/data/complete_data_set_v1/'"
   ]
  },
  {
   "cell_type": "code",
   "execution_count": 44,
   "metadata": {},
   "outputs": [],
   "source": [
    "axis_bnk_df = pd.read_csv(BASE_DIR+'AXISBANK.NS.csv',index_col='Date',parse_dates=True)"
   ]
  },
  {
   "cell_type": "code",
   "execution_count": 45,
   "metadata": {},
   "outputs": [],
   "source": [
    "def process_dataset(dataframe, na_method='ffill'):\n",
    "    dataframe['returns'] = axis_bnk_df['Close'].pct_change(1)\n",
    "    dataframe['cumulative_return'] = (1+axis_bnk_df['returns']).cumprod()\n",
    "    dataframe.fillna(method=na_method, inplace=True)\n",
    "    dataframe.dropna(inplace=True)\n",
    "    dataframe.drop(['High','Low','Adj Close'],axis=1,inplace=True)\n",
    "    return dataframe"
   ]
  },
  {
   "cell_type": "code",
   "execution_count": 46,
   "metadata": {},
   "outputs": [],
   "source": [
    "axis_bnk_df = process_dataset(axis_bnk_df)"
   ]
  },
  {
   "cell_type": "code",
   "execution_count": 47,
   "metadata": {},
   "outputs": [
    {
     "data": {
      "text/html": [
       "<div>\n",
       "<style scoped>\n",
       "    .dataframe tbody tr th:only-of-type {\n",
       "        vertical-align: middle;\n",
       "    }\n",
       "\n",
       "    .dataframe tbody tr th {\n",
       "        vertical-align: top;\n",
       "    }\n",
       "\n",
       "    .dataframe thead th {\n",
       "        text-align: right;\n",
       "    }\n",
       "</style>\n",
       "<table border=\"1\" class=\"dataframe\">\n",
       "  <thead>\n",
       "    <tr style=\"text-align: right;\">\n",
       "      <th></th>\n",
       "      <th>Open</th>\n",
       "      <th>Close</th>\n",
       "      <th>Volume</th>\n",
       "      <th>returns</th>\n",
       "      <th>cumulative_return</th>\n",
       "    </tr>\n",
       "    <tr>\n",
       "      <th>Date</th>\n",
       "      <th></th>\n",
       "      <th></th>\n",
       "      <th></th>\n",
       "      <th></th>\n",
       "      <th></th>\n",
       "    </tr>\n",
       "  </thead>\n",
       "  <tbody>\n",
       "    <tr>\n",
       "      <th>2013-04-05</th>\n",
       "      <td>248.089996</td>\n",
       "      <td>245.910004</td>\n",
       "      <td>6484050.0</td>\n",
       "      <td>-0.011497</td>\n",
       "      <td>0.988503</td>\n",
       "    </tr>\n",
       "    <tr>\n",
       "      <th>2013-04-08</th>\n",
       "      <td>245.300003</td>\n",
       "      <td>240.639999</td>\n",
       "      <td>4864420.0</td>\n",
       "      <td>-0.021431</td>\n",
       "      <td>0.967319</td>\n",
       "    </tr>\n",
       "    <tr>\n",
       "      <th>2013-04-09</th>\n",
       "      <td>242.070007</td>\n",
       "      <td>240.639999</td>\n",
       "      <td>7490495.0</td>\n",
       "      <td>0.000000</td>\n",
       "      <td>0.967319</td>\n",
       "    </tr>\n",
       "    <tr>\n",
       "      <th>2013-04-10</th>\n",
       "      <td>242.960007</td>\n",
       "      <td>247.860001</td>\n",
       "      <td>10046765.0</td>\n",
       "      <td>0.030003</td>\n",
       "      <td>0.996342</td>\n",
       "    </tr>\n",
       "    <tr>\n",
       "      <th>2013-04-11</th>\n",
       "      <td>249.309998</td>\n",
       "      <td>250.429993</td>\n",
       "      <td>9714180.0</td>\n",
       "      <td>0.010369</td>\n",
       "      <td>1.006673</td>\n",
       "    </tr>\n",
       "  </tbody>\n",
       "</table>\n",
       "</div>"
      ],
      "text/plain": [
       "                  Open       Close      Volume   returns  cumulative_return\n",
       "Date                                                                       \n",
       "2013-04-05  248.089996  245.910004   6484050.0 -0.011497           0.988503\n",
       "2013-04-08  245.300003  240.639999   4864420.0 -0.021431           0.967319\n",
       "2013-04-09  242.070007  240.639999   7490495.0  0.000000           0.967319\n",
       "2013-04-10  242.960007  247.860001  10046765.0  0.030003           0.996342\n",
       "2013-04-11  249.309998  250.429993   9714180.0  0.010369           1.006673"
      ]
     },
     "execution_count": 47,
     "metadata": {},
     "output_type": "execute_result"
    }
   ],
   "source": [
    "axis_bnk_df.head()"
   ]
  },
  {
   "cell_type": "code",
   "execution_count": null,
   "metadata": {},
   "outputs": [],
   "source": [
    "axis_bnk_df.iloc[:,[0,1,2,]]"
   ]
  },
  {
   "cell_type": "code",
   "execution_count": 49,
   "metadata": {},
   "outputs": [
    {
     "data": {
      "text/plain": [
       "array([[ 2.48089996e+02,  2.45910004e+02,  6.48405000e+06,\n",
       "        -1.14965629e-02,  9.88503437e-01],\n",
       "       [ 2.45300003e+02,  2.40639999e+02,  4.86442000e+06,\n",
       "        -2.14306247e-02,  9.67319191e-01],\n",
       "       [ 2.42070007e+02,  2.40639999e+02,  7.49049500e+06,\n",
       "         0.00000000e+00,  9.67319191e-01],\n",
       "       ...,\n",
       "       [ 5.10500000e+02,  4.99049988e+02,  7.12049800e+06,\n",
       "        -2.24290147e-02,  2.00606978e+00],\n",
       "       [ 4.94000000e+02,  5.01549988e+02,  6.05378900e+06,\n",
       "         5.00951820e-03,  2.01611923e+00],\n",
       "       [ 5.04500000e+02,  4.92250000e+02,  6.04781300e+06,\n",
       "        -1.85424947e-02,  1.97873535e+00]])"
      ]
     },
     "execution_count": 49,
     "metadata": {},
     "output_type": "execute_result"
    }
   ],
   "source": [
    "axis_bnk_df.values"
   ]
  },
  {
   "cell_type": "code",
   "execution_count": 93,
   "metadata": {},
   "outputs": [],
   "source": [
    "axisCopy = axis_bnk_df.copy(deep=True)"
   ]
  },
  {
   "cell_type": "code",
   "execution_count": 97,
   "metadata": {},
   "outputs": [],
   "source": [
    "temp1 = axisCopy.iloc[:,[0,1,2,4]]\n",
    "temp2 = axisCopy.iloc[:,[3]]\n",
    "axisCopy = pd.concat([temp1, temp2], axis=1)"
   ]
  },
  {
   "cell_type": "code",
   "execution_count": 98,
   "metadata": {},
   "outputs": [],
   "source": [
    "from sklearn.preprocessing import MinMaxScaler"
   ]
  },
  {
   "cell_type": "code",
   "execution_count": 99,
   "metadata": {},
   "outputs": [],
   "source": [
    "scaler = MinMaxScaler(feature_range=(0,1))\n",
    "axisCopy = scaler.fit_transform(axisCopy.values)"
   ]
  },
  {
   "cell_type": "code",
   "execution_count": 100,
   "metadata": {},
   "outputs": [],
   "source": [
    "#Preparing Test And Train Data\n",
    "n = len(axisCopy)"
   ]
  },
  {
   "cell_type": "code",
   "execution_count": 101,
   "metadata": {},
   "outputs": [
    {
     "data": {
      "text/plain": [
       "array([[0.18515595, 0.18196261, 0.05379083, 0.18196261, 0.33057996],\n",
       "       [0.17951208, 0.17122896, 0.04035459, 0.17122896, 0.29116093],\n",
       "       [0.17297812, 0.17122896, 0.06214017, 0.17122896, 0.3761991 ],\n",
       "       ...,\n",
       "       [0.71598492, 0.69754368, 0.05907072, 0.69754368, 0.28719925],\n",
       "       [0.68260708, 0.70263553, 0.05022144, 0.70263553, 0.3960772 ],\n",
       "       [0.70384752, 0.68369385, 0.05017187, 0.68369385, 0.30262123]])"
      ]
     },
     "execution_count": 101,
     "metadata": {},
     "output_type": "execute_result"
    }
   ],
   "source": [
    "axisCopy"
   ]
  },
  {
   "cell_type": "code",
   "execution_count": 102,
   "metadata": {},
   "outputs": [],
   "source": [
    "X_train = axisCopy[:(n*80)//100, :-1]\n",
    "y_train = axisCopy[:(n*80)//100, -1:]\n",
    "X_test = axisCopy[(n*80)//100:, :-1]\n",
    "y_test = axisCopy[(n*80)//100:, -1:]"
   ]
  },
  {
   "cell_type": "code",
   "execution_count": 103,
   "metadata": {},
   "outputs": [],
   "source": [
    "X_train = X_train.reshape(X_train.shape[0], 1, X_train.shape[1])\n",
    "X_test = X_test.reshape(X_test.shape[0], 1, X_test.shape[1])"
   ]
  },
  {
   "cell_type": "code",
   "execution_count": 104,
   "metadata": {},
   "outputs": [
    {
     "data": {
      "text/plain": [
       "(984, 1, 4)"
      ]
     },
     "execution_count": 104,
     "metadata": {},
     "output_type": "execute_result"
    }
   ],
   "source": [
    "X_train.shape"
   ]
  },
  {
   "cell_type": "code",
   "execution_count": 105,
   "metadata": {},
   "outputs": [],
   "source": [
    "# Define and Build Model"
   ]
  },
  {
   "cell_type": "code",
   "execution_count": 106,
   "metadata": {},
   "outputs": [
    {
     "name": "stderr",
     "output_type": "stream",
     "text": [
      "Using TensorFlow backend.\n"
     ]
    }
   ],
   "source": [
    "from keras.models import Sequential\n",
    "from keras.layers import Dense, LSTM"
   ]
  },
  {
   "cell_type": "code",
   "execution_count": 107,
   "metadata": {},
   "outputs": [],
   "source": [
    "model = Sequential()\n",
    "model.add(LSTM(50, input_shape=(X_train.shape[1],X_train.shape[2])))\n",
    "model.add(Dense(1))\n",
    "model.compile(loss='mae', optimizer='adam')"
   ]
  },
  {
   "cell_type": "code",
   "execution_count": 110,
   "metadata": {},
   "outputs": [
    {
     "name": "stdout",
     "output_type": "stream",
     "text": [
      "Train on 984 samples, validate on 247 samples\n",
      "Epoch 1/50\n",
      " - 2s - loss: 0.3832 - val_loss: 0.3167\n",
      "Epoch 2/50\n",
      " - 0s - loss: 0.2602 - val_loss: 0.1637\n",
      "Epoch 3/50\n",
      " - 0s - loss: 0.1411 - val_loss: 0.0474\n",
      "Epoch 4/50\n",
      " - 0s - loss: 0.1048 - val_loss: 0.0812\n",
      "Epoch 5/50\n",
      " - 0s - loss: 0.0934 - val_loss: 0.0615\n",
      "Epoch 6/50\n",
      " - 0s - loss: 0.0866 - val_loss: 0.0491\n",
      "Epoch 7/50\n",
      " - 0s - loss: 0.0860 - val_loss: 0.0485\n",
      "Epoch 8/50\n",
      " - 0s - loss: 0.0839 - val_loss: 0.0495\n",
      "Epoch 9/50\n",
      " - 0s - loss: 0.0806 - val_loss: 0.0486\n",
      "Epoch 10/50\n",
      " - 0s - loss: 0.0780 - val_loss: 0.0481\n",
      "Epoch 11/50\n",
      " - 0s - loss: 0.0758 - val_loss: 0.0479\n",
      "Epoch 12/50\n",
      " - 0s - loss: 0.0736 - val_loss: 0.0475\n",
      "Epoch 13/50\n",
      " - 0s - loss: 0.0716 - val_loss: 0.0471\n",
      "Epoch 14/50\n",
      " - 0s - loss: 0.0699 - val_loss: 0.0470\n",
      "Epoch 15/50\n",
      " - 0s - loss: 0.0684 - val_loss: 0.0469\n",
      "Epoch 16/50\n",
      " - 0s - loss: 0.0670 - val_loss: 0.0468\n",
      "Epoch 17/50\n",
      " - 0s - loss: 0.0658 - val_loss: 0.0466\n",
      "Epoch 18/50\n",
      " - 0s - loss: 0.0649 - val_loss: 0.0466\n",
      "Epoch 19/50\n",
      " - 0s - loss: 0.0643 - val_loss: 0.0466\n",
      "Epoch 20/50\n",
      " - 0s - loss: 0.0639 - val_loss: 0.0466\n",
      "Epoch 21/50\n",
      " - 0s - loss: 0.0637 - val_loss: 0.0466\n",
      "Epoch 22/50\n",
      " - 0s - loss: 0.0635 - val_loss: 0.0466\n",
      "Epoch 23/50\n",
      " - 0s - loss: 0.0634 - val_loss: 0.0465\n",
      "Epoch 24/50\n",
      " - 0s - loss: 0.0633 - val_loss: 0.0465\n",
      "Epoch 25/50\n",
      " - 0s - loss: 0.0632 - val_loss: 0.0465\n",
      "Epoch 26/50\n",
      " - 0s - loss: 0.0632 - val_loss: 0.0465\n",
      "Epoch 27/50\n",
      " - 0s - loss: 0.0631 - val_loss: 0.0465\n",
      "Epoch 28/50\n",
      " - 0s - loss: 0.0631 - val_loss: 0.0465\n",
      "Epoch 29/50\n",
      " - 0s - loss: 0.0630 - val_loss: 0.0464\n",
      "Epoch 30/50\n",
      " - 0s - loss: 0.0630 - val_loss: 0.0464\n",
      "Epoch 31/50\n",
      " - 0s - loss: 0.0629 - val_loss: 0.0464\n",
      "Epoch 32/50\n",
      " - 0s - loss: 0.0629 - val_loss: 0.0464\n",
      "Epoch 33/50\n",
      " - 0s - loss: 0.0628 - val_loss: 0.0463\n",
      "Epoch 34/50\n",
      " - 0s - loss: 0.0628 - val_loss: 0.0463\n",
      "Epoch 35/50\n",
      " - 0s - loss: 0.0628 - val_loss: 0.0463\n",
      "Epoch 36/50\n",
      " - 0s - loss: 0.0627 - val_loss: 0.0462\n",
      "Epoch 37/50\n",
      " - 0s - loss: 0.0627 - val_loss: 0.0462\n",
      "Epoch 38/50\n",
      " - 0s - loss: 0.0626 - val_loss: 0.0462\n",
      "Epoch 39/50\n",
      " - 0s - loss: 0.0626 - val_loss: 0.0462\n",
      "Epoch 40/50\n",
      " - 0s - loss: 0.0626 - val_loss: 0.0461\n",
      "Epoch 41/50\n",
      " - 0s - loss: 0.0625 - val_loss: 0.0461\n",
      "Epoch 42/50\n",
      " - 0s - loss: 0.0625 - val_loss: 0.0461\n",
      "Epoch 43/50\n",
      " - 0s - loss: 0.0625 - val_loss: 0.0460\n",
      "Epoch 44/50\n",
      " - 0s - loss: 0.0624 - val_loss: 0.0460\n",
      "Epoch 45/50\n",
      " - 0s - loss: 0.0624 - val_loss: 0.0460\n",
      "Epoch 46/50\n",
      " - 0s - loss: 0.0624 - val_loss: 0.0459\n",
      "Epoch 47/50\n",
      " - 0s - loss: 0.0623 - val_loss: 0.0459\n",
      "Epoch 48/50\n",
      " - 0s - loss: 0.0623 - val_loss: 0.0459\n",
      "Epoch 49/50\n",
      " - 0s - loss: 0.0622 - val_loss: 0.0459\n",
      "Epoch 50/50\n",
      " - 0s - loss: 0.0622 - val_loss: 0.0458\n"
     ]
    },
    {
     "data": {
      "image/png": "[encoded data removed]",
      "text/plain": [
       "<Figure size 432x288 with 1 Axes>"
      ]
     },
     "metadata": {},
     "output_type": "display_data"
    }
   ],
   "source": [
    "history = model.fit(X_train, y_train, epochs=50, batch_size=72, validation_data=(X_test, y_test), verbose=2, shuffle=False)\n",
    "plt.plot(history.history['loss'], label='train')\n",
    "plt.plot(history.history['val_loss'], label='test')\n",
    "plt.legend()\n",
    "plt.show()"
   ]
  },
  {
   "cell_type": "code",
   "execution_count": 111,
   "metadata": {},
   "outputs": [],
   "source": [
    "yhat = model.predict(X_test)\n",
    "X_test = X_test.reshape((X_test.shape[0], X_test.shape[2]))"
   ]
  },
  {
   "cell_type": "code",
   "execution_count": 114,
   "metadata": {},
   "outputs": [],
   "source": [
    "inv_yhat = np.concatenate((yhat, X_test[:, 1:]), axis=1)"
   ]
  },
  {
   "cell_type": "code",
   "execution_count": 119,
   "metadata": {},
   "outputs": [
    {
     "data": {
      "text/plain": [
       "(247, 4)"
      ]
     },
     "execution_count": 119,
     "metadata": {},
     "output_type": "execute_result"
    }
   ],
   "source": [
    "inv_yhat.shape"
   ]
  },
  {
   "cell_type": "code",
   "execution_count": null,
   "metadata": {},
   "outputs": [],
   "source": []
  },
  {
   "cell_type": "code",
   "execution_count": 116,
   "metadata": {},
   "outputs": [
    {
     "ename": "ValueError",
     "evalue": "operands could not be broadcast together with shapes (247,4) (5,) (247,4) ",
     "output_type": "error",
     "traceback": [
      "\u001b[0;31m---------------------------------------------------------------------------\u001b[0m",
      "\u001b[0;31mValueError\u001b[0m                                Traceback (most recent call last)",
      "\u001b[0;32m<ipython-input-116-fc025cf8bb9f>\u001b[0m in \u001b[0;36m<module>\u001b[0;34m()\u001b[0m\n\u001b[0;32m----> 1\u001b[0;31m \u001b[0minv_yhat\u001b[0m \u001b[0;34m=\u001b[0m \u001b[0mscaler\u001b[0m\u001b[0;34m.\u001b[0m\u001b[0minverse_transform\u001b[0m\u001b[0;34m(\u001b[0m\u001b[0minv_yhat\u001b[0m\u001b[0;34m)\u001b[0m\u001b[0;34m\u001b[0m\u001b[0m\n\u001b[0m",
      "\u001b[0;32m~/virtualenvs/techgig/lib/python3.6/site-packages/sklearn/preprocessing/data.py\u001b[0m in \u001b[0;36minverse_transform\u001b[0;34m(self, X)\u001b[0m\n\u001b[1;32m    383\u001b[0m         \u001b[0mX\u001b[0m \u001b[0;34m=\u001b[0m \u001b[0mcheck_array\u001b[0m\u001b[0;34m(\u001b[0m\u001b[0mX\u001b[0m\u001b[0;34m,\u001b[0m \u001b[0mcopy\u001b[0m\u001b[0;34m=\u001b[0m\u001b[0mself\u001b[0m\u001b[0;34m.\u001b[0m\u001b[0mcopy\u001b[0m\u001b[0;34m,\u001b[0m \u001b[0mdtype\u001b[0m\u001b[0;34m=\u001b[0m\u001b[0mFLOAT_DTYPES\u001b[0m\u001b[0;34m)\u001b[0m\u001b[0;34m\u001b[0m\u001b[0m\n\u001b[1;32m    384\u001b[0m \u001b[0;34m\u001b[0m\u001b[0m\n\u001b[0;32m--> 385\u001b[0;31m         \u001b[0mX\u001b[0m \u001b[0;34m-=\u001b[0m \u001b[0mself\u001b[0m\u001b[0;34m.\u001b[0m\u001b[0mmin_\u001b[0m\u001b[0;34m\u001b[0m\u001b[0m\n\u001b[0m\u001b[1;32m    386\u001b[0m         \u001b[0mX\u001b[0m \u001b[0;34m/=\u001b[0m \u001b[0mself\u001b[0m\u001b[0;34m.\u001b[0m\u001b[0mscale_\u001b[0m\u001b[0;34m\u001b[0m\u001b[0m\n\u001b[1;32m    387\u001b[0m         \u001b[0;32mreturn\u001b[0m \u001b[0mX\u001b[0m\u001b[0;34m\u001b[0m\u001b[0m\n",
      "\u001b[0;31mValueError\u001b[0m: operands could not be broadcast together with shapes (247,4) (5,) (247,4) "
     ]
    }
   ],
   "source": [
    "inv_yhat = scaler.inverse_transform(inv_yhat)"
   ]
  },
  {
   "cell_type": "code",
   "execution_count": null,
   "metadata": {},
   "outputs": [],
   "source": [
    "inv_yhat = inv_yhat[:, 0]"
   ]
  }
 ],
 "metadata": {
  "kernelspec": {
   "display_name": "techgig",
   "language": "python",
   "name": "techgig"
  },
  "language_info": {
   "codemirror_mode": {
    "name": "ipython",
    "version": 3
   },
   "file_extension": ".py",
   "mimetype": "text/x-python",
   "name": "python",
   "nbconvert_exporter": "python",
   "pygments_lexer": "ipython3",
   "version": "3.6.4"
  }
 },
 "nbformat": 4,
 "nbformat_minor": 2
}
