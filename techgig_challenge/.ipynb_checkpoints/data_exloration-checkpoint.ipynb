{
 "cells": [
  {
   "cell_type": "code",
   "execution_count": 1,
   "metadata": {},
   "outputs": [
    {
     "name": "stderr",
     "output_type": "stream",
     "text": [
      "/Users/akash/virtualenvs/techgig/lib/python3.6/site-packages/matplotlib/font_manager.py:278: UserWarning: Matplotlib is building the font cache using fc-list. This may take a moment.\n",
      "  'Matplotlib is building the font cache using fc-list. '\n"
     ]
    }
   ],
   "source": [
    "import numpy as np\n",
    "import pandas as pd\n",
    "import matplotlib.pyplot as plt\n",
    "%matplotlib inline"
   ]
  },
  {
   "cell_type": "code",
   "execution_count": 7,
   "metadata": {},
   "outputs": [],
   "source": [
    "BASE_DIR = '/Users/akash/Dropbox/github/stock_price_prediction/techgig_challenge/data/complete_data_set_v1/'"
   ]
  },
  {
   "cell_type": "code",
   "execution_count": 8,
   "metadata": {},
   "outputs": [
    {
     "name": "stdout",
     "output_type": "stream",
     "text": [
      "AXISBANK.NS.csv   INDUSINDBK.NS.csv TCS.NS.csv        submission.csv\r\n",
      "HCLTECH.NS.csv    INFY.NS.csv       TECHM.NS.csv\r\n",
      "HDFCBANK.NS.csv   KOTAKBANK.NS.csv  WIPRO.NS.csv\r\n",
      "ICICIBANK.NS.csv  SBIN.NS.csv       YESBANK.NS.csv\r\n"
     ]
    }
   ],
   "source": [
    "!ls {BASE_DIR}"
   ]
  },
  {
   "cell_type": "code",
   "execution_count": 22,
   "metadata": {},
   "outputs": [],
   "source": [
    "axis_bnk_df = pd.read_csv(BASE_DIR+'AXISBANK.NS.csv',index_col='Date',parse_dates=True)\n",
    "indus_bnk_df = pd.read_csv(BASE_DIR+'INDUSINDBK.NS.csv',index_col='Date',parse_dates=True)\n",
    "tcs_df = pd.read_csv(BASE_DIR+'TCS.NS.csv',index_col='Date',parse_dates=True)\n",
    "hcl_df = pd.read_csv(BASE_DIR+'HCLTECH.NS.csv',index_col='Date',parse_dates=True)\n",
    "infy_df = pd.read_csv(BASE_DIR+'INFY.NS.csv',index_col='Date',parse_dates=True)\n",
    "techm_df = pd.read_csv(BASE_DIR+'TECHM.NS.csv',index_col='Date',parse_dates=True)\n",
    "hdfc_bnk_df = pd.read_csv(BASE_DIR+'HDFCBANK.NS.csv',index_col='Date',parse_dates=True)\n",
    "kotak_bnk_df = pd.read_csv(BASE_DIR+'KOTAKBANK.NS.csv',index_col='Date',parse_dates=True)\n",
    "wipro_df = pd.read_csv(BASE_DIR+'WIPRO.NS.csv',index_col='Date',parse_dates=True)\n",
    "icici_bnk_df = pd.read_csv(BASE_DIR+'ICICIBANK.NS.csv',index_col='Date',parse_dates=True)\n",
    "sbi_bnk_df = pd.read_csv(BASE_DIR+'SBIN.NS.csv',index_col='Date',parse_dates=True)\n",
    "yes_bnk_df = pd.read_csv(BASE_DIR+'YESBANK.NS.csv',index_col='Date',parse_dates=True)\n",
    "sub = pd.read_csv(BASE_DIR+'submission.csv',index_col='Date',parse_dates=True)"
   ]
  },
  {
   "cell_type": "code",
   "execution_count": 29,
   "metadata": {},
   "outputs": [
    {
     "data": {
      "text/html": [
       "<div>\n",
       "<style scoped>\n",
       "    .dataframe tbody tr th:only-of-type {\n",
       "        vertical-align: middle;\n",
       "    }\n",
       "\n",
       "    .dataframe tbody tr th {\n",
       "        vertical-align: top;\n",
       "    }\n",
       "\n",
       "    .dataframe thead th {\n",
       "        text-align: right;\n",
       "    }\n",
       "</style>\n",
       "<table border=\"1\" class=\"dataframe\">\n",
       "  <thead>\n",
       "    <tr style=\"text-align: right;\">\n",
       "      <th></th>\n",
       "      <th>Date</th>\n",
       "      <th>Open</th>\n",
       "      <th>High</th>\n",
       "      <th>Low</th>\n",
       "      <th>Close</th>\n",
       "      <th>Adj Close</th>\n",
       "      <th>Volume</th>\n",
       "    </tr>\n",
       "  </thead>\n",
       "  <tbody>\n",
       "    <tr>\n",
       "      <th>0</th>\n",
       "      <td>2013-04-04</td>\n",
       "      <td>253.199997</td>\n",
       "      <td>254.000000</td>\n",
       "      <td>248.020004</td>\n",
       "      <td>248.770004</td>\n",
       "      <td>213.306046</td>\n",
       "      <td>6417705.0</td>\n",
       "    </tr>\n",
       "    <tr>\n",
       "      <th>1</th>\n",
       "      <td>2013-04-05</td>\n",
       "      <td>248.089996</td>\n",
       "      <td>249.869995</td>\n",
       "      <td>243.440002</td>\n",
       "      <td>245.910004</td>\n",
       "      <td>210.853775</td>\n",
       "      <td>6484050.0</td>\n",
       "    </tr>\n",
       "    <tr>\n",
       "      <th>2</th>\n",
       "      <td>2013-04-08</td>\n",
       "      <td>245.300003</td>\n",
       "      <td>247.600006</td>\n",
       "      <td>239.600006</td>\n",
       "      <td>240.639999</td>\n",
       "      <td>206.335022</td>\n",
       "      <td>4864420.0</td>\n",
       "    </tr>\n",
       "    <tr>\n",
       "      <th>3</th>\n",
       "      <td>2013-04-09</td>\n",
       "      <td>242.070007</td>\n",
       "      <td>247.960007</td>\n",
       "      <td>239.759995</td>\n",
       "      <td>240.639999</td>\n",
       "      <td>206.335022</td>\n",
       "      <td>7490495.0</td>\n",
       "    </tr>\n",
       "    <tr>\n",
       "      <th>4</th>\n",
       "      <td>2013-04-10</td>\n",
       "      <td>242.960007</td>\n",
       "      <td>248.570007</td>\n",
       "      <td>240.000000</td>\n",
       "      <td>247.860001</td>\n",
       "      <td>212.525757</td>\n",
       "      <td>10046765.0</td>\n",
       "    </tr>\n",
       "    <tr>\n",
       "      <th>5</th>\n",
       "      <td>2013-04-11</td>\n",
       "      <td>249.309998</td>\n",
       "      <td>250.979996</td>\n",
       "      <td>246.199997</td>\n",
       "      <td>250.429993</td>\n",
       "      <td>214.729401</td>\n",
       "      <td>9714180.0</td>\n",
       "    </tr>\n",
       "    <tr>\n",
       "      <th>6</th>\n",
       "      <td>2013-04-12</td>\n",
       "      <td>248.000000</td>\n",
       "      <td>255.399994</td>\n",
       "      <td>246.899994</td>\n",
       "      <td>252.860001</td>\n",
       "      <td>216.812988</td>\n",
       "      <td>7911225.0</td>\n",
       "    </tr>\n",
       "    <tr>\n",
       "      <th>7</th>\n",
       "      <td>2013-04-15</td>\n",
       "      <td>251.199997</td>\n",
       "      <td>262.269989</td>\n",
       "      <td>250.800003</td>\n",
       "      <td>258.839996</td>\n",
       "      <td>221.940491</td>\n",
       "      <td>7689700.0</td>\n",
       "    </tr>\n",
       "    <tr>\n",
       "      <th>8</th>\n",
       "      <td>2013-04-16</td>\n",
       "      <td>257.299988</td>\n",
       "      <td>273.799988</td>\n",
       "      <td>256.549988</td>\n",
       "      <td>272.660004</td>\n",
       "      <td>233.790359</td>\n",
       "      <td>11987860.0</td>\n",
       "    </tr>\n",
       "    <tr>\n",
       "      <th>9</th>\n",
       "      <td>2013-04-17</td>\n",
       "      <td>274.359985</td>\n",
       "      <td>290.000000</td>\n",
       "      <td>273.230011</td>\n",
       "      <td>275.440002</td>\n",
       "      <td>236.174042</td>\n",
       "      <td>9186545.0</td>\n",
       "    </tr>\n",
       "  </tbody>\n",
       "</table>\n",
       "</div>"
      ],
      "text/plain": [
       "        Date        Open        High         Low       Close   Adj Close  \\\n",
       "0 2013-04-04  253.199997  254.000000  248.020004  248.770004  213.306046   \n",
       "1 2013-04-05  248.089996  249.869995  243.440002  245.910004  210.853775   \n",
       "2 2013-04-08  245.300003  247.600006  239.600006  240.639999  206.335022   \n",
       "3 2013-04-09  242.070007  247.960007  239.759995  240.639999  206.335022   \n",
       "4 2013-04-10  242.960007  248.570007  240.000000  247.860001  212.525757   \n",
       "5 2013-04-11  249.309998  250.979996  246.199997  250.429993  214.729401   \n",
       "6 2013-04-12  248.000000  255.399994  246.899994  252.860001  216.812988   \n",
       "7 2013-04-15  251.199997  262.269989  250.800003  258.839996  221.940491   \n",
       "8 2013-04-16  257.299988  273.799988  256.549988  272.660004  233.790359   \n",
       "9 2013-04-17  274.359985  290.000000  273.230011  275.440002  236.174042   \n",
       "\n",
       "       Volume  \n",
       "0   6417705.0  \n",
       "1   6484050.0  \n",
       "2   4864420.0  \n",
       "3   7490495.0  \n",
       "4  10046765.0  \n",
       "5   9714180.0  \n",
       "6   7911225.0  \n",
       "7   7689700.0  \n",
       "8  11987860.0  \n",
       "9   9186545.0  "
      ]
     },
     "execution_count": 29,
     "metadata": {},
     "output_type": "execute_result"
    }
   ],
   "source": [
    "axis_bnk_df.head(10)"
   ]
  },
  {
   "cell_type": "code",
   "execution_count": 26,
   "metadata": {},
   "outputs": [],
   "source": [
    "axis_bnk_df['Date'] = pd.to_datetime(axis_bnk_df['Date'])"
   ]
  },
  {
   "cell_type": "code",
   "execution_count": 28,
   "metadata": {},
   "outputs": [
    {
     "data": {
      "text/plain": [
       "pandas._libs.tslib.Timestamp"
      ]
     },
     "execution_count": 28,
     "metadata": {},
     "output_type": "execute_result"
    }
   ],
   "source": [
    "type(axis_bnk_df['Date'][0])"
   ]
  },
  {
   "cell_type": "code",
   "execution_count": 30,
   "metadata": {},
   "outputs": [
    {
     "name": "stdout",
     "output_type": "stream",
     "text": [
      "<class 'pandas.core.frame.DataFrame'>\n",
      "RangeIndex: 1232 entries, 0 to 1231\n",
      "Data columns (total 7 columns):\n",
      "Date         1232 non-null datetime64[ns]\n",
      "Open         1221 non-null float64\n",
      "High         1221 non-null float64\n",
      "Low          1221 non-null float64\n",
      "Close        1221 non-null float64\n",
      "Adj Close    1221 non-null float64\n",
      "Volume       1221 non-null float64\n",
      "dtypes: datetime64[ns](1), float64(6)\n",
      "memory usage: 67.5 KB\n"
     ]
    }
   ],
   "source": [
    "axis_bnk_df.info()"
   ]
  },
  {
   "cell_type": "code",
   "execution_count": 32,
   "metadata": {},
   "outputs": [],
   "source": [
    "axis_bnk_df.set_index('Date',inplace=True)"
   ]
  },
  {
   "cell_type": "code",
   "execution_count": 33,
   "metadata": {},
   "outputs": [
    {
     "data": {
      "text/html": [
       "<div>\n",
       "<style scoped>\n",
       "    .dataframe tbody tr th:only-of-type {\n",
       "        vertical-align: middle;\n",
       "    }\n",
       "\n",
       "    .dataframe tbody tr th {\n",
       "        vertical-align: top;\n",
       "    }\n",
       "\n",
       "    .dataframe thead th {\n",
       "        text-align: right;\n",
       "    }\n",
       "</style>\n",
       "<table border=\"1\" class=\"dataframe\">\n",
       "  <thead>\n",
       "    <tr style=\"text-align: right;\">\n",
       "      <th></th>\n",
       "      <th>Open</th>\n",
       "      <th>High</th>\n",
       "      <th>Low</th>\n",
       "      <th>Close</th>\n",
       "      <th>Adj Close</th>\n",
       "      <th>Volume</th>\n",
       "    </tr>\n",
       "    <tr>\n",
       "      <th>Date</th>\n",
       "      <th></th>\n",
       "      <th></th>\n",
       "      <th></th>\n",
       "      <th></th>\n",
       "      <th></th>\n",
       "      <th></th>\n",
       "    </tr>\n",
       "  </thead>\n",
       "  <tbody>\n",
       "    <tr>\n",
       "      <th>2013-04-04</th>\n",
       "      <td>253.199997</td>\n",
       "      <td>254.000000</td>\n",
       "      <td>248.020004</td>\n",
       "      <td>248.770004</td>\n",
       "      <td>213.306046</td>\n",
       "      <td>6417705.0</td>\n",
       "    </tr>\n",
       "    <tr>\n",
       "      <th>2013-04-05</th>\n",
       "      <td>248.089996</td>\n",
       "      <td>249.869995</td>\n",
       "      <td>243.440002</td>\n",
       "      <td>245.910004</td>\n",
       "      <td>210.853775</td>\n",
       "      <td>6484050.0</td>\n",
       "    </tr>\n",
       "    <tr>\n",
       "      <th>2013-04-08</th>\n",
       "      <td>245.300003</td>\n",
       "      <td>247.600006</td>\n",
       "      <td>239.600006</td>\n",
       "      <td>240.639999</td>\n",
       "      <td>206.335022</td>\n",
       "      <td>4864420.0</td>\n",
       "    </tr>\n",
       "    <tr>\n",
       "      <th>2013-04-09</th>\n",
       "      <td>242.070007</td>\n",
       "      <td>247.960007</td>\n",
       "      <td>239.759995</td>\n",
       "      <td>240.639999</td>\n",
       "      <td>206.335022</td>\n",
       "      <td>7490495.0</td>\n",
       "    </tr>\n",
       "    <tr>\n",
       "      <th>2013-04-10</th>\n",
       "      <td>242.960007</td>\n",
       "      <td>248.570007</td>\n",
       "      <td>240.000000</td>\n",
       "      <td>247.860001</td>\n",
       "      <td>212.525757</td>\n",
       "      <td>10046765.0</td>\n",
       "    </tr>\n",
       "  </tbody>\n",
       "</table>\n",
       "</div>"
      ],
      "text/plain": [
       "                  Open        High         Low       Close   Adj Close  \\\n",
       "Date                                                                     \n",
       "2013-04-04  253.199997  254.000000  248.020004  248.770004  213.306046   \n",
       "2013-04-05  248.089996  249.869995  243.440002  245.910004  210.853775   \n",
       "2013-04-08  245.300003  247.600006  239.600006  240.639999  206.335022   \n",
       "2013-04-09  242.070007  247.960007  239.759995  240.639999  206.335022   \n",
       "2013-04-10  242.960007  248.570007  240.000000  247.860001  212.525757   \n",
       "\n",
       "                Volume  \n",
       "Date                    \n",
       "2013-04-04   6417705.0  \n",
       "2013-04-05   6484050.0  \n",
       "2013-04-08   4864420.0  \n",
       "2013-04-09   7490495.0  \n",
       "2013-04-10  10046765.0  "
      ]
     },
     "execution_count": 33,
     "metadata": {},
     "output_type": "execute_result"
    }
   ],
   "source": [
    "axis_bnk_df.head()"
   ]
  },
  {
   "cell_type": "code",
   "execution_count": 34,
   "metadata": {},
   "outputs": [
    {
     "data": {
      "text/plain": [
       "<matplotlib.axes._subplots.AxesSubplot at 0x1042257f0>"
      ]
     },
     "execution_count": 34,
     "metadata": {},
     "output_type": "execute_result"
    },
    {
     "data": {
      "image/png": "[encoded data removed]",
      "text/plain": [
       "<Figure size 432x288 with 1 Axes>"
      ]
     },
     "metadata": {},
     "output_type": "display_data"
    }
   ],
   "source": [
    "axis_bnk_df"
   ]
  },
  {
   "cell_type": "code",
   "execution_count": null,
   "metadata": {},
   "outputs": [],
   "source": []
  }
 ],
 "metadata": {
  "kernelspec": {
   "display_name": "techgig",
   "language": "python",
   "name": "techgig"
  },
  "language_info": {
   "codemirror_mode": {
    "name": "ipython",
    "version": 3
   },
   "file_extension": ".py",
   "mimetype": "text/x-python",
   "name": "python",
   "nbconvert_exporter": "python",
   "pygments_lexer": "ipython3",
   "version": "3.6.4"
  }
 },
 "nbformat": 4,
 "nbformat_minor": 2
}
